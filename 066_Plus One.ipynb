{
 "cells": [
  {
   "cell_type": "markdown",
   "metadata": {},
   "source": [
    "# 66. Plus One\n",
    "\n",
    "Given a **non-empty** array of digits representing a non-negative integer, plus one to the integer.\n",
    "\n",
    "The digits are stored such that the most significant digit is at the head of the list, and each element in the array contain a single digit.\n",
    "\n",
    "You may assume the integer does not contain any leading zero, except the number 0 itself.\n",
    "\n",
    "**Example:**\n",
    "<div class=\"alert alert-block alert-info\">\n",
    "\n",
    "case 1: [9,9,9,9] => [1,0,0,0,0]\n",
    "\n",
    "case 2: [1,2,9,9] => [1,3,0,0]\n",
    "\n",
    "case 3: [1,2,3,4] => [1,2,3,5]\n",
    "\n",
    "</div>"
   ]
  },
  {
   "cell_type": "code",
   "execution_count": null,
   "metadata": {},
   "outputs": [],
   "source": [
    "class Solution:\n",
    "    def plusOne(self, digits: List[int]) -> List[int]:\n",
    "        \"\"\"\n",
    "        case 1: [9,9,9,9] => [1,0,0,0,0]\n",
    "        case 2: [1,2,9,9] => [1,3,0,0]\n",
    "        case 3: [1,2,3,4] => [1,2,3,5]\n",
    "        \"\"\"\n",
    "        if digits == None or len(digits) == 0: return digits\n",
    "        if digits[-1] == 9 and len(digits) == 1: return [1,0]\n",
    "        digits[-1] += 1\n",
    "        if digits[-1] == 10:\n",
    "            digits[-1] = 0\n",
    "            digits[:-1] = self.plusOne(digits[:-1])\n",
    "        return digits"
   ]
  },
  {
   "cell_type": "code",
   "execution_count": 1,
   "metadata": {},
   "outputs": [],
   "source": [
    "def plusOne(digits):\n",
    "    if digits == None or len(digits) == 0: return digits\n",
    "    if digits[-1] == 9 and len(digits) == 1: return [1,0]\n",
    "    digits[-1] += 1\n",
    "    if digits[-1] == 10:\n",
    "        digits[-1] = 0\n",
    "        digits[:-1] = plusOne(digits[:-1])\n",
    "    return digits"
   ]
  },
  {
   "cell_type": "code",
   "execution_count": 2,
   "metadata": {},
   "outputs": [],
   "source": [
    "a = [9,9,9,9]\n",
    "b = [1,2,9,9]\n",
    "c = [1,2,3,4]"
   ]
  },
  {
   "cell_type": "code",
   "execution_count": 3,
   "metadata": {},
   "outputs": [
    {
     "name": "stdout",
     "output_type": "stream",
     "text": [
      "[1, 0, 0, 0, 0]\n",
      "[1, 3, 0, 0]\n",
      "[1, 2, 3, 5]\n"
     ]
    }
   ],
   "source": [
    "print(plusOne(a))\n",
    "print(plusOne(b))\n",
    "print(plusOne(c))"
   ]
  }
 ],
 "metadata": {
  "kernelspec": {
   "display_name": "Python 3",
   "language": "python",
   "name": "python3"
  },
  "language_info": {
   "codemirror_mode": {
    "name": "ipython",
    "version": 3
   },
   "file_extension": ".py",
   "mimetype": "text/x-python",
   "name": "python",
   "nbconvert_exporter": "python",
   "pygments_lexer": "ipython3",
   "version": "3.7.3"
  },
  "toc": {
   "base_numbering": 1,
   "nav_menu": {},
   "number_sections": true,
   "sideBar": true,
   "skip_h1_title": false,
   "title_cell": "Table of Contents",
   "title_sidebar": "Contents",
   "toc_cell": false,
   "toc_position": {},
   "toc_section_display": true,
   "toc_window_display": false
  }
 },
 "nbformat": 4,
 "nbformat_minor": 2
}
