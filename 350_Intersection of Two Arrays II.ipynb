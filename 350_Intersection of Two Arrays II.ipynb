{
 "cells": [
  {
   "cell_type": "markdown",
   "metadata": {},
   "source": [
    "# 350. Intersection of Two Arrays II\n",
    "\n",
    "Given two arrays, write a function to compute their intersection.\n",
    "\n",
    "**Example 1:**\n",
    "```\n",
    "Input: nums1 = [1,2,2,1], nums2 = [2,2]\n",
    "Output: [2,2]\n",
    "```\n",
    "**Example 2:**\n",
    "```\n",
    "Input: nums1 = [4,9,5], nums2 = [9,4,9,8,4]\n",
    "Output: [4,9]\n",
    "```\n",
    "**Note:**\n",
    "\n",
    "- Each element in the result should appear as many times as it shows in both arrays.\n",
    "- The result can be in any order.\n",
    "\n",
    "**Follow up:**\n",
    "\n",
    "- What if the given array is already sorted? How would you optimize your algorithm?\n",
    "- What if nums1's size is small compared to nums2's size? Which algorithm is better?\n",
    "- What if elements of nums2 are stored on disk, and the memory is limited such that you cannot load all elements into the memory at once?"
   ]
  },
  {
   "cell_type": "markdown",
   "metadata": {},
   "source": [
    "## Method 1: two pointers"
   ]
  },
  {
   "cell_type": "code",
   "execution_count": null,
   "metadata": {},
   "outputs": [],
   "source": [
    "class Solution(object):\n",
    "    def intersect(self, nums1, nums2):\n",
    "        \"\"\"\n",
    "        :type nums1: List[int]\n",
    "        :type nums2: List[int]\n",
    "        :rtype: List[int]\n",
    "        \"\"\"\n",
    "        nums1, nums2 = sorted(nums1), sorted(nums2)\n",
    "        pt1 = pt2 = 0\n",
    "        res = []\n",
    "\n",
    "        while True:\n",
    "            try:\n",
    "                if nums1[pt1] > nums2[pt2]:\n",
    "                    pt2 += 1\n",
    "                elif nums1[pt1] < nums2[pt2]:\n",
    "                    pt1 += 1\n",
    "                else:\n",
    "                    res.append(nums1[pt1])\n",
    "                    pt1 += 1\n",
    "                    pt2 += 1\n",
    "            except IndexError:\n",
    "                break\n",
    "\n",
    "        return res"
   ]
  },
  {
   "cell_type": "markdown",
   "metadata": {},
   "source": [
    "## method 2: using collections"
   ]
  },
  {
   "cell_type": "code",
   "execution_count": null,
   "metadata": {},
   "outputs": [],
   "source": [
    "class Solution(object):\n",
    "    def intersect(self, nums1, nums2):\n",
    "        \"\"\"\n",
    "        :type nums1: List[int]\n",
    "        :type nums2: List[int]\n",
    "        :rtype: List[int]\n",
    "        \"\"\"\n",
    "        counts = collections.Counter(nums1)\n",
    "        res = []\n",
    "\n",
    "        for num in nums2:\n",
    "            if counts[num] > 0:\n",
    "                res += num,\n",
    "                counts[num] -= 1\n",
    "\n",
    "        return res"
   ]
  },
  {
   "cell_type": "code",
   "execution_count": null,
   "metadata": {},
   "outputs": [],
   "source": [
    "class Solution(object):\n",
    "    def intersect(self, nums1, nums2):\n",
    "        \"\"\"\n",
    "        :type nums1: List[int]\n",
    "        :type nums2: List[int]\n",
    "        :rtype: List[int]\n",
    "        \"\"\"\n",
    "        a, b = map(collections.Counter, (nums1, nums2))\n",
    "        return list((a & b).elements())"
   ]
  }
 ],
 "metadata": {
  "kernelspec": {
   "display_name": "Python 3",
   "language": "python",
   "name": "python3"
  },
  "language_info": {
   "codemirror_mode": {
    "name": "ipython",
    "version": 3
   },
   "file_extension": ".py",
   "mimetype": "text/x-python",
   "name": "python",
   "nbconvert_exporter": "python",
   "pygments_lexer": "ipython3",
   "version": "3.7.3"
  },
  "toc": {
   "base_numbering": 1,
   "nav_menu": {},
   "number_sections": true,
   "sideBar": true,
   "skip_h1_title": false,
   "title_cell": "Table of Contents",
   "title_sidebar": "Contents",
   "toc_cell": false,
   "toc_position": {},
   "toc_section_display": true,
   "toc_window_display": false
  }
 },
 "nbformat": 4,
 "nbformat_minor": 2
}
