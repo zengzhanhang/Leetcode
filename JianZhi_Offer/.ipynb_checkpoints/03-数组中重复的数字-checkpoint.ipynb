{
 "cells": [
  {
   "cell_type": "markdown",
   "metadata": {},
   "source": [
    "# 题目：找出数组中重复的数字。\n",
    "\n",
    "在一个长度维n的数组里的所有数字都是 `0~n-1` 的范围内。数组中某些数字是重复的，但不知道有几个数字重复了，也不知道每个数字重复了几次。请找出数组中任意一个重复的数字。\n",
    "\n",
    "例子：\n",
    "```\n",
    "输入：\n",
    "[2, 3, 1, 0, 2, 5, 3]\n",
    "\n",
    "输出：\n",
    "2 或 3\n",
    "```"
   ]
  },
  {
   "cell_type": "markdown",
   "metadata": {},
   "source": [
    "## Solution 1：哈希表\n",
    "从头扫描到尾，对每个元素用 O(1) 的复杂度判断元素是否在哈希表中。\n",
    "    - 如果不存在，将元素加入哈希表\n",
    "    - 如果存在，即找到重复数字\n",
    "    \n",
    "**复杂度**\n",
    "    - Time: O(n)\n",
    "    - Spcae: O(1)"
   ]
  },
  {
   "cell_type": "code",
   "execution_count": 1,
   "metadata": {},
   "outputs": [],
   "source": [
    "def duplicates(int_arr):\n",
    "    if int_arr == None or len(int_arr) <= 0:\n",
    "        return False\n",
    "    for i in int_arr:\n",
    "        if i<0 or i >len(int_arr)-1:\n",
    "            raise ValueError(\"Value out of range of zero to length(array)\")\n",
    "    \n",
    "    tmp = set() # Create an empty Hash Table\n",
    "    for i in int_arr:\n",
    "        if i in tmp:\n",
    "            return i\n",
    "        else:\n",
    "            tmp.add(i)\n",
    "    print(\"There is no duplicates\")\n",
    "    return False"
   ]
  },
  {
   "cell_type": "code",
   "execution_count": 2,
   "metadata": {},
   "outputs": [
    {
     "data": {
      "text/plain": [
       "2"
      ]
     },
     "execution_count": 2,
     "metadata": {},
     "output_type": "execute_result"
    }
   ],
   "source": [
    "int_arr = [2, 3, 1, 0, 2, 5, 3]\n",
    "duplicates(int_arr)"
   ]
  },
  {
   "cell_type": "markdown",
   "metadata": {},
   "source": [
    "## Solution 2：排序\n",
    "数组的长度为 `n`，而元素都在 `0 ~ n-1` 的范围内，因此如果没有重复元素的话，数组排序后，数字 `i` 将出现在第 `i` 个下标的位置。如果存在重复元素的话，即有些元素的下标不等于元素自身。\n",
    "\n",
    "**算法：**\n",
    "```\n",
    "从同扫面元素，对于下标为 i 的数字(m)进行判断：\n",
    "    while m != i:\n",
    "        拿数字 m 和第 m 个下标的数字比较:\n",
    "        if arr[i] == arr[arr[i]]: \n",
    "            找到重复数字\n",
    "        else:\n",
    "            swap(arr[i], arr[arr[i]])\n",
    "```\n",
    "\n",
    "**复杂度：**\n",
    "    - 尽管2层循环，但平均每个元素值swap一次\n",
    "    - Time: O(n)\n",
    "    - Space: O(1)"
   ]
  },
  {
   "cell_type": "code",
   "execution_count": 3,
   "metadata": {},
   "outputs": [],
   "source": [
    "def duplicates(arr):\n",
    "    if arr == None or len(arr) <= 0:\n",
    "        return False\n",
    "    for i in arr:\n",
    "        if i<0 or i >len(arr)-1:\n",
    "            raise ValueError(\"Value out of range of zero to length(array)\")\n",
    "    \n",
    "    for i in range(len(arr)):\n",
    "        while i != arr[i]:\n",
    "            if arr[i] == arr[arr[i]]:\n",
    "                return arr[i]\n",
    "            else:\n",
    "                tmp = arr[i]\n",
    "                arr[i] = arr[tmp]\n",
    "                arr[tmp] = tmp\n",
    "#                 arr[i], arr[arr[i]] = arr[arr[i]], arr[i]\n",
    "    return False"
   ]
  },
  {
   "cell_type": "code",
   "execution_count": 5,
   "metadata": {},
   "outputs": [
    {
     "data": {
      "text/plain": [
       "2"
      ]
     },
     "execution_count": 5,
     "metadata": {},
     "output_type": "execute_result"
    }
   ],
   "source": [
    "int_arr = [2, 3, 1, 0, 2, 5, 3]\n",
    "# int_arr = [2,10,3,2,5,8]\n",
    "duplicates(int_arr)"
   ]
  }
 ],
 "metadata": {
  "kernelspec": {
   "display_name": "Python 3",
   "language": "python",
   "name": "python3"
  },
  "language_info": {
   "codemirror_mode": {
    "name": "ipython",
    "version": 3
   },
   "file_extension": ".py",
   "mimetype": "text/x-python",
   "name": "python",
   "nbconvert_exporter": "python",
   "pygments_lexer": "ipython3",
   "version": "3.7.3"
  },
  "toc": {
   "base_numbering": 1,
   "nav_menu": {},
   "number_sections": true,
   "sideBar": true,
   "skip_h1_title": false,
   "title_cell": "Table of Contents",
   "title_sidebar": "Contents",
   "toc_cell": false,
   "toc_position": {},
   "toc_section_display": true,
   "toc_window_display": false
  }
 },
 "nbformat": 4,
 "nbformat_minor": 2
}
