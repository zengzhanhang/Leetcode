{
 "cells": [
  {
   "cell_type": "markdown",
   "metadata": {},
   "source": [
    "# 119. Pascal's Triangle II\n",
    "\n",
    "Given a non-negative index k where k ≤ 33, return the $k^{th}$ index row of the Pascal's triangle.\n",
    "\n",
    "Note that the row index starts from 0.\n",
    "\n",
    "![In Pascal's triangle, each number is the sum of the two numbers directly above it.](https://upload.wikimedia.org/wikipedia/commons/0/0d/PascalTriangleAnimated2.gif)\n",
    "\n",
    "\n",
    "**Example:**\n",
    "```\n",
    "Input: 3\n",
    "Output: [1,3,3,1]\n",
    "```\n",
    "\n",
    "**Follow up:**\n",
    "\n",
    "Could you optimize your algorithm to use only O(k) extra space?\n",
    "\n",
    "每次输出只存一行，不要存整个二维数组"
   ]
  },
  {
   "cell_type": "code",
   "execution_count": null,
   "metadata": {},
   "outputs": [],
   "source": [
    "class Solution:\n",
    "    def getRow(self, rowIndex: int) -> List[int]:\n",
    "        \n",
    "        def pascalsTriangle(rowIndex):\n",
    "            results = [[1]*(i+1) for i in range(rowIndex+1)]\n",
    "\n",
    "            for i in range(rowIndex+1):\n",
    "                for j in range(i):\n",
    "                    if j in [0, i]:\n",
    "                        pass\n",
    "                    else:\n",
    "                        results[i][j] = results[i-1][j-1] + results[i-1][j]\n",
    "            return results\n",
    "        \n",
    "        results = pascalsTriangle(rowIndex)\n",
    "        return results[-1]"
   ]
  },
  {
   "cell_type": "code",
   "execution_count": 1,
   "metadata": {},
   "outputs": [],
   "source": [
    "def getRow(rowIndex):\n",
    "\n",
    "    def pascalsTriangle(rowIndex):\n",
    "        results = [[1]*(i+1) for i in range(rowIndex+1)]\n",
    "\n",
    "        for i in range(rowIndex+1):\n",
    "            for j in range(i):\n",
    "                if j in [0, i]:\n",
    "                    pass\n",
    "                else:\n",
    "                    results[i][j] = results[i-1][j-1] + results[i-1][j]\n",
    "        return results\n",
    "\n",
    "    results = pascalsTriangle(rowIndex)\n",
    "    return results[-1]"
   ]
  },
  {
   "cell_type": "code",
   "execution_count": 2,
   "metadata": {},
   "outputs": [
    {
     "name": "stdout",
     "output_type": "stream",
     "text": [
      "[1, 5, 10, 10, 5, 1]\n"
     ]
    }
   ],
   "source": [
    "print(getRow(5))"
   ]
  },
  {
   "cell_type": "markdown",
   "metadata": {},
   "source": [
    "## Follow up: Optimizing the space complexity"
   ]
  },
  {
   "cell_type": "code",
   "execution_count": null,
   "metadata": {},
   "outputs": [],
   "source": [
    "class Solution:\n",
    "    def getRow(self, rowIndex: int) -> List[int]:\n",
    "        for i in range(rowIndex+1):\n",
    "            result = [1]*(i+1)\n",
    "            for j in range(i):\n",
    "                if j in [0, i]:\n",
    "                    pass\n",
    "                else:\n",
    "                    result[j] = lastresult[j-1] + lastresult[j]\n",
    "            lastresult = result\n",
    "        return result"
   ]
  },
  {
   "cell_type": "code",
   "execution_count": 3,
   "metadata": {},
   "outputs": [],
   "source": [
    "def getRow(rowIndex):\n",
    "    for i in range(rowIndex+1):\n",
    "        result = [1]*(i+1)\n",
    "        for j in range(i):\n",
    "            if j in [0, i]:\n",
    "                pass\n",
    "            else:\n",
    "                result[j] = lastresult[j-1] + lastresult[j]\n",
    "        lastresult = result\n",
    "    return result"
   ]
  },
  {
   "cell_type": "code",
   "execution_count": 4,
   "metadata": {},
   "outputs": [
    {
     "data": {
      "text/plain": [
       "[1, 5, 10, 10, 5, 1]"
      ]
     },
     "execution_count": 4,
     "metadata": {},
     "output_type": "execute_result"
    }
   ],
   "source": [
    "getRow(5)"
   ]
  }
 ],
 "metadata": {
  "kernelspec": {
   "display_name": "Python 3",
   "language": "python",
   "name": "python3"
  },
  "language_info": {
   "codemirror_mode": {
    "name": "ipython",
    "version": 3
   },
   "file_extension": ".py",
   "mimetype": "text/x-python",
   "name": "python",
   "nbconvert_exporter": "python",
   "pygments_lexer": "ipython3",
   "version": "3.7.3"
  },
  "toc": {
   "base_numbering": 1,
   "nav_menu": {},
   "number_sections": true,
   "sideBar": true,
   "skip_h1_title": false,
   "title_cell": "Table of Contents",
   "title_sidebar": "Contents",
   "toc_cell": false,
   "toc_position": {},
   "toc_section_display": true,
   "toc_window_display": false
  }
 },
 "nbformat": 4,
 "nbformat_minor": 2
}
