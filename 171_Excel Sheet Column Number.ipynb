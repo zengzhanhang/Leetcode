{
 "cells": [
  {
   "cell_type": "markdown",
   "metadata": {},
   "source": [
    "# 171. Excel Sheet Column Number\n",
    "\n",
    "Given a column title as appear in an Excel sheet, return its corresponding column number.\n",
    "\n",
    "For example:\n",
    "```\n",
    "    A -> 1\n",
    "    B -> 2\n",
    "    C -> 3\n",
    "    ...\n",
    "    Z -> 26\n",
    "    AA -> 27\n",
    "    AB -> 28 \n",
    "    ...\n",
    "```"
   ]
  },
  {
   "cell_type": "code",
   "execution_count": null,
   "metadata": {},
   "outputs": [],
   "source": [
    "class Solution:\n",
    "    def titleToNumber(self, s: str) -> int:\n",
    "        dic = {'A':1,'B':2,'C':3,'D':4,'E':5,'F':6,'G':7,\n",
    "               'H':8,'I':9,'J':10,'K':11,'L':12,'M':13,'N':14,\n",
    "               'O':15,'P':16,'Q':17,'R':18,'S':19,'T':20,'U':21,\n",
    "               'V':22,'W':23,'X':24,'Y':25,'Z':26}\n",
    "        return 0 if s==None else sum([dic[l]*26**i for i,l in enumerate(s[::-1])])"
   ]
  },
  {
   "cell_type": "code",
   "execution_count": null,
   "metadata": {},
   "outputs": [],
   "source": [
    "class Solution:\n",
    "    def titleToNumber(self, s: str) -> int:\n",
    "        dic = {'A':1,'B':2,'C':3,'D':4,'E':5,'F':6,'G':7,\n",
    "               'H':8,'I':9,'J':10,'K':11,'L':12,'M':13,'N':14,\n",
    "               'O':15,'P':16,'Q':17,'R':18,'S':19,'T':20,'U':21,\n",
    "               'V':22,'W':23,'X':24,'Y':25,'Z':26}\n",
    "        if s == None:\n",
    "            return 0\n",
    "        else:\n",
    "            return sum([dic[l]*26**i for i,l in enumerate(s[::-1])])"
   ]
  }
 ],
 "metadata": {
  "kernelspec": {
   "display_name": "Python 3",
   "language": "python",
   "name": "python3"
  },
  "language_info": {
   "codemirror_mode": {
    "name": "ipython",
    "version": 3
   },
   "file_extension": ".py",
   "mimetype": "text/x-python",
   "name": "python",
   "nbconvert_exporter": "python",
   "pygments_lexer": "ipython3",
   "version": "3.7.3"
  },
  "toc": {
   "base_numbering": 1,
   "nav_menu": {},
   "number_sections": true,
   "sideBar": true,
   "skip_h1_title": false,
   "title_cell": "Table of Contents",
   "title_sidebar": "Contents",
   "toc_cell": false,
   "toc_position": {},
   "toc_section_display": true,
   "toc_window_display": false
  }
 },
 "nbformat": 4,
 "nbformat_minor": 2
}
