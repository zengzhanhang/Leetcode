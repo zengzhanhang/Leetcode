{
 "cells": [
  {
   "cell_type": "code",
   "execution_count": 30,
   "metadata": {},
   "outputs": [],
   "source": [
    "class Solution:\n",
    "    #O(n^2)\n",
    "    def twoSum(self, nums, target):\n",
    "        for i, n in enumerate(nums):\n",
    "            if target - n in nums and nums.index(target-n) != i:\n",
    "                return sorted([i, nums.index(target - n)])"
   ]
  },
  {
   "cell_type": "code",
   "execution_count": null,
   "metadata": {},
   "outputs": [],
   "source": [
    "class Solution:\n",
    "    #O(n)\n",
    "    def twoSum(self, nums, target):\n",
    "        d = {target - n: i for i, n in enumerate(nums)}\n",
    "        return [[d[n], i] for i, n in enumerate(nums) if n in d and d[n] > i][0] #d stores (target-n)"
   ]
  }
 ],
 "metadata": {
  "kernelspec": {
   "display_name": "Python 3",
   "language": "python",
   "name": "python3"
  },
  "language_info": {
   "codemirror_mode": {
    "name": "ipython",
    "version": 3
   },
   "file_extension": ".py",
   "mimetype": "text/x-python",
   "name": "python",
   "nbconvert_exporter": "python",
   "pygments_lexer": "ipython3",
   "version": "3.7.3"
  }
 },
 "nbformat": 4,
 "nbformat_minor": 2
}
