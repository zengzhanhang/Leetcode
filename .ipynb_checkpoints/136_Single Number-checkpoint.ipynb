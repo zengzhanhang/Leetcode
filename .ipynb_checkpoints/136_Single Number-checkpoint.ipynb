{
 "cells": [
  {
   "cell_type": "markdown",
   "metadata": {},
   "source": [
    "# 136. Single Number\n",
    "\n",
    "Given a **non-empty** array of integers, every element appears twice except for one. Find that single one.\n",
    "\n",
    "Note:\n",
    "\n",
    "Your algorithm should have a linear runtime complexity. Could you implement it without using extra memory?\n",
    "\n",
    "Example 1:\n",
    "```\n",
    "Input: [2,2,1]\n",
    "Output: 1\n",
    "```\n",
    "Example 2:\n",
    "```\n",
    "Input: [4,1,2,1,2]\n",
    "Output: 4\n",
    "```"
   ]
  },
  {
   "cell_type": "code",
   "execution_count": null,
   "metadata": {},
   "outputs": [],
   "source": [
    "class Solution:\n",
    "    def singleNumber(self, nums: List[int]) -> int:\n",
    "        dic = {}\n",
    "        for num in nums:\n",
    "            try:\n",
    "                if dic[num]:\n",
    "                    del dic[num]\n",
    "            except:\n",
    "                dic[num] = num\n",
    "        for num in dic.values():\n",
    "            result = int(num)\n",
    "        return result"
   ]
  },
  {
   "cell_type": "code",
   "execution_count": null,
   "metadata": {},
   "outputs": [],
   "source": [
    "class Solution:\n",
    "    def singleNumber(self, nums: List[int]) -> int:\n",
    "        dic = {}\n",
    "        for num in nums:\n",
    "            if num in dic.keys():\n",
    "                del dic[num]\n",
    "            else:\n",
    "                dic[num] = num\n",
    "        return [num for num in dic.values()]"
   ]
  },
  {
   "cell_type": "markdown",
   "metadata": {},
   "source": [
    "## Other solution：\n",
    "\n",
    "I learn a lot from the following solutions, which are taken from https://leetcode.com/problems/single-number/discuss/43000/Python-different-solutions.\n",
    "\n",
    "**Note:** Solution2 中， \"^=\" 按位异或运算符：当两对应的二进位相异时，结果为1\n",
    "\n",
    "* 这是Python的其中一个Python位运算符。\n",
    "* 按位运算符是把数字看作二进制来进行计算的。Python中的按位运算法则如下：\n",
    "---\n",
    "下表中变量 a 为 60，b 为 13，二进制格式如下：\n",
    "\n",
    "**Input:**\n",
    "\n",
    "    a = 0011 1100\n",
    "\n",
    "    b = 0000 1101\n",
    "\n",
    "**Output:**\n",
    "\n",
    "    a^b = 0011 0001\n",
    "\n",
    "---\n"
   ]
  },
  {
   "cell_type": "code",
   "execution_count": null,
   "metadata": {},
   "outputs": [],
   "source": [
    "def singleNumber1(self, nums):\n",
    "    dic = {}\n",
    "    for num in nums:\n",
    "        dic[num] = dic.get(num, 0)+1\n",
    "    for key, val in dic.items():\n",
    "        if val == 1:\n",
    "            return key\n",
    "\n",
    "def singleNumber2(self, nums):\n",
    "    res = 0\n",
    "    for num in nums:\n",
    "        res ^= num\n",
    "    return res\n",
    "    \n",
    "def singleNumber3(self, nums):\n",
    "    return 2*sum(set(nums))-sum(nums)\n",
    "    \n",
    "def singleNumber4(self, nums):\n",
    "    return reduce(lambda x, y: x ^ y, nums)\n",
    "    \n",
    "def singleNumber(self, nums):\n",
    "    return reduce(operator.xor, nums)"
   ]
  },
  {
   "cell_type": "code",
   "execution_count": 75,
   "metadata": {},
   "outputs": [],
   "source": [
    "# Python solution without extra memory which is the same as the solution 2 above\n",
    "\n",
    "def singleNumber(self, nums):\n",
    "    for i in range(1,len(nums)):\n",
    "        nums[0] ^= nums[i]\n",
    "    return nums[0]"
   ]
  }
 ],
 "metadata": {
  "kernelspec": {
   "display_name": "Python 3",
   "language": "python",
   "name": "python3"
  },
  "language_info": {
   "codemirror_mode": {
    "name": "ipython",
    "version": 3
   },
   "file_extension": ".py",
   "mimetype": "text/x-python",
   "name": "python",
   "nbconvert_exporter": "python",
   "pygments_lexer": "ipython3",
   "version": "3.7.3"
  },
  "toc": {
   "base_numbering": 1,
   "nav_menu": {},
   "number_sections": true,
   "sideBar": true,
   "skip_h1_title": false,
   "title_cell": "Table of Contents",
   "title_sidebar": "Contents",
   "toc_cell": false,
   "toc_position": {},
   "toc_section_display": true,
   "toc_window_display": false
  }
 },
 "nbformat": 4,
 "nbformat_minor": 2
}
