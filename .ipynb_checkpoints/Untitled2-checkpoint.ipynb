{
 "cells": [
  {
   "cell_type": "code",
   "execution_count": 19,
   "metadata": {},
   "outputs": [],
   "source": [
    "def contain(nums, k):\n",
    "    if len(nums) <= k:\n",
    "        return len(set(nums)) != len(nums)\n",
    "    try:\n",
    "        for i in range(len(nums)):\n",
    "            return len(set(nums[i:i+k])) != len(nums[i:i+k])\n",
    "#             s = set(nums[i+1:i+k+1])\n",
    "#             print(nums[i+1:i+k+1])\n",
    "#             print(s)\n",
    "#             if nums[i] in s:\n",
    "#                 return True\n",
    "    except:\n",
    "        pass\n",
    "    return False"
   ]
  },
  {
   "cell_type": "code",
   "execution_count": 21,
   "metadata": {},
   "outputs": [
    {
     "data": {
      "text/plain": [
       "True"
      ]
     },
     "execution_count": 21,
     "metadata": {},
     "output_type": "execute_result"
    }
   ],
   "source": [
    "nums = [99,99]; k = 2\n",
    "\n",
    "contain(nums, k)"
   ]
  },
  {
   "cell_type": "code",
   "execution_count": 20,
   "metadata": {},
   "outputs": [
    {
     "name": "stdout",
     "output_type": "stream",
     "text": [
      "[2, 3, 4]\n",
      "{2, 3, 4}\n",
      "[3, 4, 5]\n",
      "{3, 4, 5}\n",
      "[4, 5, 6]\n",
      "{4, 5, 6}\n",
      "[5, 6, 7]\n",
      "{5, 6, 7}\n",
      "[6, 7, 8]\n",
      "{8, 6, 7}\n",
      "[7, 8, 9]\n",
      "{8, 9, 7}\n",
      "[8, 9, 9]\n",
      "{8, 9}\n",
      "[9, 9]\n",
      "{9}\n",
      "[9]\n",
      "{9}\n"
     ]
    },
    {
     "data": {
      "text/plain": [
       "True"
      ]
     },
     "execution_count": 20,
     "metadata": {},
     "output_type": "execute_result"
    }
   ],
   "source": [
    "nums = [1,2,3,4,5,6,7,8,9,9]; k = 3\n",
    "contain(nums, k)"
   ]
  }
 ],
 "metadata": {
  "kernelspec": {
   "display_name": "Python 3",
   "language": "python",
   "name": "python3"
  },
  "language_info": {
   "codemirror_mode": {
    "name": "ipython",
    "version": 3
   },
   "file_extension": ".py",
   "mimetype": "text/x-python",
   "name": "python",
   "nbconvert_exporter": "python",
   "pygments_lexer": "ipython3",
   "version": "3.7.3"
  },
  "toc": {
   "base_numbering": 1,
   "nav_menu": {},
   "number_sections": true,
   "sideBar": true,
   "skip_h1_title": false,
   "title_cell": "Table of Contents",
   "title_sidebar": "Contents",
   "toc_cell": false,
   "toc_position": {},
   "toc_section_display": true,
   "toc_window_display": false
  }
 },
 "nbformat": 4,
 "nbformat_minor": 2
}
