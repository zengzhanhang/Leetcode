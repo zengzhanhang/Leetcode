{
 "cells": [
  {
   "cell_type": "markdown",
   "metadata": {},
   "source": [
    "# 83. Remove Duplicates from Sorted List\n",
    "\n",
    "Given a sorted linked list, delete all duplicates such that each element appear only once.\n",
    "\n",
    "Example 1:\n",
    "```\n",
    "Input: 1->1->2\n",
    "Output: 1->2\n",
    "```\n",
    "Example 2:\n",
    "```\n",
    "Input: 1->1->1\n",
    "Output: 1\n",
    "```"
   ]
  },
  {
   "cell_type": "code",
   "execution_count": null,
   "metadata": {},
   "outputs": [],
   "source": [
    "# Definition for singly-linked list.\n",
    "# class ListNode:\n",
    "#     def __init__(self, x):\n",
    "#         self.val = x\n",
    "#         self.next = None\n",
    "\n",
    "class Solution:\n",
    "    def deleteDuplicates(self, head: ListNode) -> ListNode:\n",
    "        results = head\n",
    "        while head:\n",
    "            if head.next == None:\n",
    "                return results\n",
    "            if head.val == head.next.val:\n",
    "                head.next = head.next.next\n",
    "            else:\n",
    "                head = head.next\n",
    "        return results"
   ]
  },
  {
   "cell_type": "code",
   "execution_count": 1,
   "metadata": {},
   "outputs": [],
   "source": [
    "# Definition for singly-linked list.\n",
    "class ListNode:\n",
    "    def __init__(self, x):\n",
    "        self.val = x\n",
    "        self.next = None\n",
    "\n",
    "def deleteDuplicates(head):\n",
    "    results = head\n",
    "    while head:\n",
    "        if head.next == None:\n",
    "            return results\n",
    "        if head.val == head.next.val:\n",
    "            head.next = head.next.next\n",
    "        else:\n",
    "            head = head.next\n",
    "    return results"
   ]
  },
  {
   "cell_type": "code",
   "execution_count": 2,
   "metadata": {},
   "outputs": [],
   "source": [
    "def build_l1():\n",
    "    l = l1 = ListNode(1)\n",
    "    l1.next = ListNode(1)\n",
    "#     l1.next.next = ListNode(4)\n",
    "    l1 = l1.next\n",
    "    l1.next = ListNode(2)\n",
    "    return l\n",
    "def build_l2():\n",
    "    l = l1 = ListNode(1)\n",
    "    l1.next = ListNode(1)\n",
    "#     l1.next.next = ListNode(4)\n",
    "    l1 = l1.next\n",
    "    l1.next = ListNode(1)\n",
    "    return l\n",
    "\n",
    "l1 = build_l1()\n",
    "l2 = build_l2()"
   ]
  },
  {
   "cell_type": "code",
   "execution_count": 3,
   "metadata": {},
   "outputs": [
    {
     "name": "stdout",
     "output_type": "stream",
     "text": [
      "[1, 2]\n"
     ]
    }
   ],
   "source": [
    "l1 = deleteDuplicates(l1)\n",
    "results = []\n",
    "while l1:\n",
    "    results.append(l1.val)\n",
    "    l1 = l1.next\n",
    "print(results)"
   ]
  },
  {
   "cell_type": "code",
   "execution_count": 4,
   "metadata": {},
   "outputs": [
    {
     "name": "stdout",
     "output_type": "stream",
     "text": [
      "[1]\n"
     ]
    }
   ],
   "source": [
    "l2 = deleteDuplicates(l2)\n",
    "results = []\n",
    "while l2:\n",
    "    results.append(l2.val)\n",
    "    l2 = l2.next\n",
    "print(results)"
   ]
  }
 ],
 "metadata": {
  "kernelspec": {
   "display_name": "Python 3",
   "language": "python",
   "name": "python3"
  },
  "language_info": {
   "codemirror_mode": {
    "name": "ipython",
    "version": 3
   },
   "file_extension": ".py",
   "mimetype": "text/x-python",
   "name": "python",
   "nbconvert_exporter": "python",
   "pygments_lexer": "ipython3",
   "version": "3.7.3"
  },
  "toc": {
   "base_numbering": 1,
   "nav_menu": {},
   "number_sections": true,
   "sideBar": true,
   "skip_h1_title": false,
   "title_cell": "Table of Contents",
   "title_sidebar": "Contents",
   "toc_cell": false,
   "toc_position": {},
   "toc_section_display": true,
   "toc_window_display": false
  }
 },
 "nbformat": 4,
 "nbformat_minor": 2
}
