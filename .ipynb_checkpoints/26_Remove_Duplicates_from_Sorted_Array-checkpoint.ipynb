{
 "cells": [
  {
   "cell_type": "code",
   "execution_count": null,
   "metadata": {},
   "outputs": [],
   "source": [
    "class Solution:\n",
    "    def removeDuplicates(self, nums: List[int]) -> int:\n",
    "        cur_idx = 0\n",
    "        while cur_idx < len(nums)-1:\n",
    "            if nums[cur_idx] == nums[cur_idx+1]:\n",
    "#                 nums.remove(nums[cur_idx+1])\n",
    "                del(nums[cur_idx+1]) # 'del' is much faster and less time-consuming than list.remove()\n",
    "                cur_idx -= 1\n",
    "            cur_idx += 1\n",
    "        return len(nums)"
   ]
  },
  {
   "cell_type": "code",
   "execution_count": 1,
   "metadata": {},
   "outputs": [],
   "source": [
    "def removeDuplicates(nums):\n",
    "    cur_idx = 0\n",
    "    while cur_idx < len(nums)-1:\n",
    "        if nums[cur_idx] == nums[cur_idx+1]:\n",
    "            del(nums[cur_idx+1])\n",
    "            cur_idx -= 1\n",
    "        cur_idx += 1\n",
    "    return len(nums)"
   ]
  },
  {
   "cell_type": "code",
   "execution_count": 2,
   "metadata": {},
   "outputs": [
    {
     "name": "stdout",
     "output_type": "stream",
     "text": [
      "5\n"
     ]
    }
   ],
   "source": [
    "a = [0,0,1,1,1,2,2,3,3,4]\n",
    "print(removeDuplicates(a))"
   ]
  }
 ],
 "metadata": {
  "kernelspec": {
   "display_name": "Python 3",
   "language": "python",
   "name": "python3"
  },
  "language_info": {
   "codemirror_mode": {
    "name": "ipython",
    "version": 3
   },
   "file_extension": ".py",
   "mimetype": "text/x-python",
   "name": "python",
   "nbconvert_exporter": "python",
   "pygments_lexer": "ipython3",
   "version": "3.7.3"
  },
  "toc": {
   "base_numbering": 1,
   "nav_menu": {},
   "number_sections": true,
   "sideBar": true,
   "skip_h1_title": false,
   "title_cell": "Table of Contents",
   "title_sidebar": "Contents",
   "toc_cell": false,
   "toc_position": {},
   "toc_section_display": true,
   "toc_window_display": false
  }
 },
 "nbformat": 4,
 "nbformat_minor": 2
}
