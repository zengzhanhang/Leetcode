{
 "cells": [
  {
   "cell_type": "markdown",
   "metadata": {},
   "source": [
    "# 20. Valid Parentheses\n",
    "\n",
    "Given a string containing just the characters '(', ')', '{', '}', '[' and ']', determine if the input string is valid.\n",
    "\n",
    "An input string is valid if:\n",
    "\n",
    "- Open brackets must be closed by the same type of brackets.\n",
    "- Open brackets must be closed in the correct order.\n",
    "\n",
    "**Note that an empty string is also considered valid.**\n",
    "\n",
    "**Example 1:**\n",
    "```\n",
    "Input: \"()\"\n",
    "Output: true\n",
    "```\n",
    "**Example 2:**\n",
    "```\n",
    "Input: \"()[]{}\"\n",
    "Output: true\n",
    "```\n",
    "**Example 3:**\n",
    "```\n",
    "Input: \"(]\"\n",
    "Output: false\n",
    "```\n",
    "\n",
    "**Good Explaination for this problem in YouTube:**[The Balanced Parentheses Problem - Classic Stack Problem (\"Valid Parentheses\" on Leetcode)](https://www.youtube.com/watch?v=CCyEXcNamC4)"
   ]
  },
  {
   "cell_type": "code",
   "execution_count": 77,
   "metadata": {},
   "outputs": [],
   "source": [
    "class Solution(object):\n",
    "    def isValid(self, s):\n",
    "        \"\"\"\n",
    "        :type s: str\n",
    "        :rtype: bool\n",
    "        \"\"\"\n",
    "        # the most care is the last open bracket, so we use stack\n",
    "        # and we check if the last open bracket and the first close bracket are paire up\n",
    "        stack, match = [], {')':'(', ']':'[', '}':'{'}\n",
    "        for i in s:\n",
    "            if i in match: # i is close brackets\n",
    "                if len(stack) == 0 or stack.pop() != match[i]: #   1. i:close bracket,but no open bracket in stack \n",
    "                    return False                               #OR 2. last open != first close\n",
    "            else: # i is an open bracket\n",
    "                stack.append(i)\n",
    "        return not stack # when loop is over, and stack is empty, return True"
   ]
  },
  {
   "cell_type": "code",
   "execution_count": 84,
   "metadata": {},
   "outputs": [
    {
     "data": {
      "text/plain": [
       "True"
      ]
     },
     "execution_count": 84,
     "metadata": {},
     "output_type": "execute_result"
    }
   ],
   "source": [
    "s = Solution()\n",
    "s.isValid(\"()[]{}{}\")"
   ]
  }
 ],
 "metadata": {
  "kernelspec": {
   "display_name": "Python 3",
   "language": "python",
   "name": "python3"
  },
  "language_info": {
   "codemirror_mode": {
    "name": "ipython",
    "version": 3
   },
   "file_extension": ".py",
   "mimetype": "text/x-python",
   "name": "python",
   "nbconvert_exporter": "python",
   "pygments_lexer": "ipython3",
   "version": "3.7.3"
  },
  "toc": {
   "base_numbering": 1,
   "nav_menu": {},
   "number_sections": true,
   "sideBar": true,
   "skip_h1_title": false,
   "title_cell": "Table of Contents",
   "title_sidebar": "Contents",
   "toc_cell": false,
   "toc_position": {},
   "toc_section_display": true,
   "toc_window_display": false
  }
 },
 "nbformat": 4,
 "nbformat_minor": 2
}
