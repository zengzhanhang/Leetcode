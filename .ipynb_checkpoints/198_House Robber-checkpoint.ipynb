{
 "cells": [
  {
   "cell_type": "markdown",
   "metadata": {},
   "source": [
    "# 198. House Robber\n",
    "\n",
    "You are a professional robber planning to rob houses along a street. Each house has a certain amount of money stashed, the only constraint stopping you from robbing each of them is that adjacent houses have security system connected and **it will automatically contact the police if two adjacent houses were broken into on the same night.**\n",
    "\n",
    "Given a list of non-negative integers representing the amount of money of each house, determine the maximum amount of money you can rob tonight **without alerting the police.**\n",
    "\n",
    "**Example 1:**\n",
    "```\n",
    "Input: [1,2,3,1]\n",
    "Output: 4\n",
    "Explanation: Rob house 1 (money = 1) and then rob house 3 (money = 3).\n",
    "             Total amount you can rob = 1 + 3 = 4.\n",
    "```\n",
    "**Example 2:**\n",
    "```\n",
    "Input: [2,7,9,3,1]\n",
    "Output: 12\n",
    "Explanation: Rob house 1 (money = 2), rob house 3 (money = 9) and rob house 5 (money = 1).\n",
    "             Total amount you can rob = 2 + 9 + 1 = 12.\n",
    "```"
   ]
  },
  {
   "cell_type": "code",
   "execution_count": null,
   "metadata": {},
   "outputs": [],
   "source": [
    "class Solution(object):\n",
    "    def rob(self, nums):\n",
    "        \"\"\"\n",
    "        :type nums: List[int]\n",
    "        :rtype: int\n",
    "        \"\"\"\n",
    "        if len(nums) == 0:\n",
    "            return 0\n",
    "        elif len(nums) <= 2:\n",
    "            return max(nums)\n",
    "        profit = [0] * len(nums)\n",
    "        profit[0], profit[1] = nums[0], nums[1]\n",
    "        for i in range(2, len(nums)):\n",
    "            profit[i] = max((nums[i] + profit[i-2]), (nums[i] + profit[i-3]))\n",
    "        return max(profit)\n",
    "            "
   ]
  },
  {
   "cell_type": "markdown",
   "metadata": {},
   "source": [
    "The idea is the store the max sum we can get for each house use it to calculate the following houses until we get the final result.\n",
    "\n",
    "In the path that the robber chose to rob with max money, it is guaranteed that either the last house (num[-1]) or the 2nd last house (num[-2]) will be robbed. So we can compare the max sum path that includes num[-1] with the max sum path that includes num[-2] and return the larger one.\n",
    "\n",
    "To get the sums of the two paths, we scan from left to right. A sliding window of size 4, `[max_3_house_before, max_2_house_before, adjacent, cur],` is used to calculate the max sum till the current house. The last element, cur, of the window is the money of the current house we are scanning. The 1st element, max_3_house_before, stores the max sum till the house that is 3 steps before the current one. The 2nd element, max_2_house_before, stores the max sum till the house that is 2 steps before the current one. The 3rd element, adjacent, stores the max sum till the house that are one step before the current one. To reach the current house, we either came from the house that is 3 steps before or from the one that is 2 steps before because visiting two adjacent houses is not allowed. So we can get the max sum till the current house by `max(cur+max_3_house_before, cur+max_2_house_before)`.\n",
    "\n",
    "Before scanning the next house we update the window by moving one house forward: `max_3_house_before, max_2_house_before, adjacent = max_2_house_before, adjacent, max(max_3_house_before+cur, max_2_house_before+cur).`\n",
    "\n",
    "When we finished the scanning, the max sum exists in either `max_2_house_before` or `adjacent.` So we return `max(max_2_house_before, adjacent).`\n",
    "\n",
    "For example: num = `[1,7,9,4]`, at the beginning, `max_3_house_before, max_2_house_before, adjacent` are initialized to 0, so it is like putting 3 zeros before the input list [0, 0, 0, 1, 7, 9, 4]. Here are steps for calculating the max sum for each house(the sliding window is marked by parentheses):\n",
    "\n",
    "[(0, 0, 0, 1), 7, 9, 4], cur = max(0+1, 0+1)\n",
    "\n",
    "> [ (0, 0, 1, 7), 9, 4], cur = max(0+7, 0+7)\n",
    "\n",
    "> [(0, 1, 7, 9), 4], cur = max(0+9, 1+9)\n",
    "\n",
    "> [(1, 7, 10, 4)], cur = max(1+4, 7+4)\n",
    "\n",
    "> [7, 10, 11], 10 is the max sum of path that includes num[-2], 11 is the max sum of path that includes num[-1], so return max(10, 11)\n",
    "\n",
    "Author: https://leetcode.com/problems/house-robber/discuss/55977/Python-DP-solution-4-line-O(n)-time-O(1)-space-easy-to-understand-with-detailed-explanation"
   ]
  },
  {
   "cell_type": "code",
   "execution_count": null,
   "metadata": {},
   "outputs": [],
   "source": [
    "    class Solution:\n",
    "        # @param num, a list of integer\n",
    "        # @return an integer\n",
    "        def rob(self, num):\n",
    "            max_3_house_before, max_2_house_before, adjacent = 0, 0, 0\n",
    "            for cur in num:\n",
    "                max_3_house_before, max_2_house_before, adjacent = \\\n",
    "                max_2_house_before, adjacent, max(max_3_house_before+cur, max_2_house_before+cur)\n",
    "            return max(max_2_house_before, adjacent)"
   ]
  }
 ],
 "metadata": {
  "kernelspec": {
   "display_name": "Python 3",
   "language": "python",
   "name": "python3"
  },
  "language_info": {
   "codemirror_mode": {
    "name": "ipython",
    "version": 3
   },
   "file_extension": ".py",
   "mimetype": "text/x-python",
   "name": "python",
   "nbconvert_exporter": "python",
   "pygments_lexer": "ipython3",
   "version": "3.7.3"
  },
  "toc": {
   "base_numbering": 1,
   "nav_menu": {},
   "number_sections": true,
   "sideBar": true,
   "skip_h1_title": false,
   "title_cell": "Table of Contents",
   "title_sidebar": "Contents",
   "toc_cell": false,
   "toc_position": {},
   "toc_section_display": true,
   "toc_window_display": false
  }
 },
 "nbformat": 4,
 "nbformat_minor": 2
}
