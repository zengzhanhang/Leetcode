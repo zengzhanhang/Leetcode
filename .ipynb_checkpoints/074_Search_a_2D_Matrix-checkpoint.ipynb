{
 "cells": [
  {
   "cell_type": "markdown",
   "metadata": {},
   "source": [
    "Write an efficient algorithm that searches for a value in an m x n matrix. This matrix has the following properties:\n",
    "\n",
    "- Integers in each row are sorted from left to right.\n",
    "- The first integer of each row is greater than the last integer of the previous row.\n",
    "\n",
    "**Example 1:**\n",
    "```\n",
    "Input:\n",
    "matrix = [\n",
    "  [1,   3,  5,  7],\n",
    "  [10, 11, 16, 20],\n",
    "  [23, 30, 34, 50]\n",
    "]\n",
    "target = 3\n",
    "Output: true\n",
    "```\n",
    "**Example 2:**\n",
    "```\n",
    "Input:\n",
    "matrix = [\n",
    "  [1,   3,  5,  7],\n",
    "  [10, 11, 16, 20],\n",
    "  [23, 30, 34, 50]\n",
    "]\n",
    "target = 13\n",
    "Output: false\n",
    "```"
   ]
  },
  {
   "cell_type": "code",
   "execution_count": 1,
   "metadata": {},
   "outputs": [],
   "source": [
    "class Solution:\n",
    "    def searchMatrix(self, matrix, target):\n",
    "        if len(matrix) == 1 and len(matrix[0]) == 1:\n",
    "            return target == matrix[0][0]\n",
    "        i, j = len(matrix)-1, 0\n",
    "        while i >= 0 and j <= len(matrix[0])-1:\n",
    "            if target < matrix[i][j]:\n",
    "                i -= 1\n",
    "            elif target > matrix[i][j]:\n",
    "                j += 1\n",
    "            elif target == matrix[i][j]:\n",
    "                return True\n",
    "        return False"
   ]
  },
  {
   "cell_type": "code",
   "execution_count": 2,
   "metadata": {},
   "outputs": [
    {
     "data": {
      "text/plain": [
       "True"
      ]
     },
     "execution_count": 2,
     "metadata": {},
     "output_type": "execute_result"
    }
   ],
   "source": [
    "matrix = [\n",
    "  [1,   3,  5,  7],\n",
    "  [10, 11, 16, 20],\n",
    "  [23, 30, 34, 50]\n",
    "]\n",
    "target = 3\n",
    "\n",
    "s = Solution()\n",
    "s.searchMatrix(matrix, target)"
   ]
  },
  {
   "cell_type": "code",
   "execution_count": 3,
   "metadata": {},
   "outputs": [
    {
     "data": {
      "text/plain": [
       "False"
      ]
     },
     "execution_count": 3,
     "metadata": {},
     "output_type": "execute_result"
    }
   ],
   "source": [
    "matrix = [\n",
    "  [1,   3,  5,  7],\n",
    "  [10, 11, 16, 20],\n",
    "  [23, 30, 34, 50]\n",
    "]\n",
    "target = 13\n",
    "\n",
    "s = Solution()\n",
    "s.searchMatrix(matrix, target)"
   ]
  },
  {
   "cell_type": "code",
   "execution_count": null,
   "metadata": {},
   "outputs": [],
   "source": [
    "class Solution:\n",
    "    def searchMatrix(self, matrix: List[List[int]], target: int) -> bool:\n",
    "        def binary_search(lst, target):\n",
    "            if len(lst) == 0:\n",
    "                return False\n",
    "            i, j = 0, len(lst) - 1\n",
    "            while i <= j:\n",
    "                m = (i + j) // 2\n",
    "                if lst[m] < target:\n",
    "                    i = m + 1\n",
    "                elif lst[m] > target:\n",
    "                    j = m - 1\n",
    "                else:\n",
    "                    return True\n",
    "            return False\n",
    "        \n",
    "        for idx in range(len(matrix)):\n",
    "            if not matrix[idx]: return False\n",
    "            x, y = matrix[idx][0], matrix[idx][-1]\n",
    "            if target in (x, y):\n",
    "                return True\n",
    "            elif target < y and target > x:\n",
    "                break\n",
    "        if len(matrix) == 0: return False\n",
    "        return binary_search(matrix[idx], target)"
   ]
  }
 ],
 "metadata": {
  "kernelspec": {
   "display_name": "Python 3",
   "language": "python",
   "name": "python3"
  },
  "language_info": {
   "codemirror_mode": {
    "name": "ipython",
    "version": 3
   },
   "file_extension": ".py",
   "mimetype": "text/x-python",
   "name": "python",
   "nbconvert_exporter": "python",
   "pygments_lexer": "ipython3",
   "version": "3.7.3"
  },
  "toc": {
   "base_numbering": 1,
   "nav_menu": {},
   "number_sections": true,
   "sideBar": true,
   "skip_h1_title": false,
   "title_cell": "Table of Contents",
   "title_sidebar": "Contents",
   "toc_cell": false,
   "toc_position": {},
   "toc_section_display": true,
   "toc_window_display": false
  }
 },
 "nbformat": 4,
 "nbformat_minor": 2
}
