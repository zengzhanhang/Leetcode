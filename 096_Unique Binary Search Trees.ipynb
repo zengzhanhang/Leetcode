{
 "cells": [
  {
   "cell_type": "markdown",
   "metadata": {},
   "source": [
    "# 96. Unique Binary Search Trees\n",
    "\n",
    "Given n, how many structurally unique BST's (binary search trees) that store values 1 ... n?\n",
    "\n",
    "**Example:**\n",
    "```\n",
    "Input: 3\n",
    "Output: 5\n",
    "Explanation:\n",
    "Given n = 3, there are a total of 5 unique BST's:\n",
    "\n",
    "   1         3     3      2      1\n",
    "    \\       /     /      / \\      \\\n",
    "     3     2     1      1   3      2\n",
    "    /     /       \\                 \\\n",
    "   2     1         2                 3\n",
    "```"
   ]
  },
  {
   "cell_type": "markdown",
   "metadata": {},
   "source": [
    "Catalan Numbers:\n",
    "\n",
    "Explaination: [YouTube](https://www.youtube.com/watch?v=GgP75HAvrlY)"
   ]
  },
  {
   "cell_type": "code",
   "execution_count": null,
   "metadata": {},
   "outputs": [],
   "source": [
    "class Solution(object):\n",
    "    def numTrees(self, n):\n",
    "        \"\"\"\n",
    "        :type n: int\n",
    "        :rtype: int\n",
    "        \"\"\"\n",
    "        res = [0] * (n+1)\n",
    "        res[0] = 1\n",
    "        for i in xrange(1, n+1):\n",
    "            for j in xrange(i):\n",
    "                res[i] += res[j] * res[i-1-j]\n",
    "        return res[n]"
   ]
  }
 ],
 "metadata": {
  "kernelspec": {
   "display_name": "Python 3",
   "language": "python",
   "name": "python3"
  },
  "language_info": {
   "codemirror_mode": {
    "name": "ipython",
    "version": 3
   },
   "file_extension": ".py",
   "mimetype": "text/x-python",
   "name": "python",
   "nbconvert_exporter": "python",
   "pygments_lexer": "ipython3",
   "version": "3.7.3"
  },
  "toc": {
   "base_numbering": 1,
   "nav_menu": {},
   "number_sections": true,
   "sideBar": true,
   "skip_h1_title": false,
   "title_cell": "Table of Contents",
   "title_sidebar": "Contents",
   "toc_cell": false,
   "toc_position": {},
   "toc_section_display": true,
   "toc_window_display": false
  }
 },
 "nbformat": 4,
 "nbformat_minor": 2
}
