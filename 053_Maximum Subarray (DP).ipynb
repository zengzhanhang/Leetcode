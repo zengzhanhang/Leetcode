{
 "cells": [
  {
   "cell_type": "markdown",
   "metadata": {},
   "source": [
    "# 53. Maximum Subarray\n",
    "\n",
    "Given an integer array nums, find the contiguous subarray (containing at least one number) which has the largest sum and return its sum.\n",
    "\n",
    "**Example:**\n",
    "\n",
    "<div class=\"alert alert-block alert-info\">\n",
    "\n",
    "Input: **[-2,1,-3,4,-1,2,1,-5,4]** ,\n",
    "\n",
    "Output: **6**\n",
    "\n",
    "Explanation: **[4,-1,2,1]** has the largest sum = **6**.\n",
    "\n",
    "</div>\n",
    "\n",
    "**Follow up:**\n",
    "\n",
    "If you have figured out the O(n) solution, try coding another solution using the divide and conquer approach, which is more subtle.\n",
    "\n",
    "## an O(n) solution\n",
    "\n",
    "A good explaination of this problem in youtube: [Max Contiguous Subarray Sum - Cubic Time To Kadane's Algorithm (\"Maximum Subarray\" on LeetCode)](https://www.youtube.com/watch?v=2MmGzdiKR9Y)\n"
   ]
  },
  {
   "cell_type": "code",
   "execution_count": null,
   "metadata": {},
   "outputs": [],
   "source": [
    "class Solution:\n",
    "    def maxSubArray(self, nums: List[int]) -> int:\n",
    "        maxSum = subSum = nums[0]\n",
    "        cur_idx = 1\n",
    "        while cur_idx < len(nums):\n",
    "            subSum = max(nums[cur_idx], subSum + nums[cur_idx])\n",
    "            maxSum = max(subSum, maxSum)\n",
    "            cur_idx += 1\n",
    "        return maxSum"
   ]
  },
  {
   "cell_type": "code",
   "execution_count": 35,
   "metadata": {},
   "outputs": [],
   "source": [
    "def maxSubArray(nums):\n",
    "    maxSum = subSum = nums[0]\n",
    "    cur_idx = 1\n",
    "    while cur_idx < len(nums):\n",
    "        subSum = max(nums[cur_idx], subSum + nums[cur_idx])\n",
    "        maxSum = max(subSum, maxSum)\n",
    "        cur_idx += 1\n",
    "    return maxSum"
   ]
  },
  {
   "cell_type": "code",
   "execution_count": 36,
   "metadata": {},
   "outputs": [
    {
     "name": "stdout",
     "output_type": "stream",
     "text": [
      "6\n"
     ]
    }
   ],
   "source": [
    "nums = [-2,1,-3,4,-1,2,1,-5,4]\n",
    "print(maxSubArray(nums))"
   ]
  }
 ],
 "metadata": {
  "kernelspec": {
   "display_name": "Python 3",
   "language": "python",
   "name": "python3"
  },
  "language_info": {
   "codemirror_mode": {
    "name": "ipython",
    "version": 3
   },
   "file_extension": ".py",
   "mimetype": "text/x-python",
   "name": "python",
   "nbconvert_exporter": "python",
   "pygments_lexer": "ipython3",
   "version": "3.7.3"
  },
  "toc": {
   "base_numbering": 1,
   "nav_menu": {},
   "number_sections": true,
   "sideBar": true,
   "skip_h1_title": false,
   "title_cell": "Table of Contents",
   "title_sidebar": "Contents",
   "toc_cell": false,
   "toc_position": {},
   "toc_section_display": true,
   "toc_window_display": false
  }
 },
 "nbformat": 4,
 "nbformat_minor": 2
}
