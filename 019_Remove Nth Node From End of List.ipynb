{
 "cells": [
  {
   "cell_type": "markdown",
   "metadata": {},
   "source": [
    "# 19. Remove Nth Node From End of List\n",
    "\n",
    "Given a linked list, remove the n-th node from the end of list and return its head.\n",
    "\n",
    "**Example:**\n",
    "```\n",
    "Given linked list: 1->2->3->4->5, and n = 2.\n",
    "\n",
    "After removing the second node from the end, the linked list becomes 1->2->3->5.\n",
    "Note:\n",
    "```\n",
    "Given n will always be valid.\n",
    "\n",
    "**Follow up:**\n",
    "\n",
    "Could you do this in one pass?"
   ]
  },
  {
   "cell_type": "code",
   "execution_count": null,
   "metadata": {},
   "outputs": [],
   "source": [
    "# Definition for singly-linked list.\n",
    "# class ListNode:\n",
    "#     def __init__(self, x):\n",
    "#         self.val = x\n",
    "#         self.next = None\n",
    "\n",
    "class Solution:\n",
    "    def removeNthFromEnd(self, head: ListNode, n: int) -> ListNode:\n",
    "        if n == 1 and head.next == None:\n",
    "            return None\n",
    "        \n",
    "        cur = head\n",
    "        length = 0\n",
    "        while cur:\n",
    "            cur = cur.next\n",
    "            length += 1\n",
    "            \n",
    "        pos = length-n\n",
    "        cur = head\n",
    "        if pos == 0:\n",
    "            head = cur.next\n",
    "        while pos > 1:\n",
    "            cur = cur.next\n",
    "            pos -= 1\n",
    "        cur.next = cur.next.next\n",
    "        return head"
   ]
  }
 ],
 "metadata": {
  "kernelspec": {
   "display_name": "Python 3",
   "language": "python",
   "name": "python3"
  },
  "language_info": {
   "codemirror_mode": {
    "name": "ipython",
    "version": 3
   },
   "file_extension": ".py",
   "mimetype": "text/x-python",
   "name": "python",
   "nbconvert_exporter": "python",
   "pygments_lexer": "ipython3",
   "version": "3.7.3"
  },
  "toc": {
   "base_numbering": 1,
   "nav_menu": {},
   "number_sections": true,
   "sideBar": true,
   "skip_h1_title": false,
   "title_cell": "Table of Contents",
   "title_sidebar": "Contents",
   "toc_cell": false,
   "toc_position": {},
   "toc_section_display": true,
   "toc_window_display": false
  }
 },
 "nbformat": 4,
 "nbformat_minor": 2
}
