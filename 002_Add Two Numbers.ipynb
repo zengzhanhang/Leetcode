{
 "cells": [
  {
   "cell_type": "markdown",
   "metadata": {},
   "source": [
    "# 2. Add Two Numbers\n",
    "\n",
    "You are given two **non-empty** linked lists representing two non-negative integers. The digits are stored in **reverse order** and each of their nodes contain a single digit. Add the two numbers and return it as a linked list.\n",
    "\n",
    "You may assume the two numbers do not contain any leading zero, except the number 0 itself.\n",
    "\n",
    "Example:\n",
    "```\n",
    "Input: (2 -> 4 -> 3) + (5 -> 6 -> 4)\n",
    "Output: 7 -> 0 -> 8\n",
    "Explanation: 342 + 465 = 807.\n",
    "```"
   ]
  },
  {
   "cell_type": "code",
   "execution_count": 1,
   "metadata": {},
   "outputs": [],
   "source": [
    "# Definition for singly-linked list.\n",
    "class ListNode(object):\n",
    "    def __init__(self, x):\n",
    "        self.val = x\n",
    "        self.next = None\n",
    "\n",
    "class Solution(object):\n",
    "    def addTwoNumbers(self, l1, l2):\n",
    "        \"\"\"\n",
    "        :type l1: ListNode\n",
    "        :type l2: ListNode\n",
    "        :rtype: ListNode\n",
    "        \"\"\"\n",
    "        ls1 = [];ls2=[]\n",
    "        while l1 or l2:\n",
    "            if l1: ls1.insert(0, str(l1.val)); l1 = l1.next\n",
    "            if l2: ls2.insert(0, str(l2.val)); l2 = l2.next\n",
    "        l = [int(j) for j in [i for i in str(int(''.join(ls1)) + int(''.join(ls2)))]]\n",
    "        cur_idx = len(l)-1\n",
    "        result = tem_r = ListNode(l[-1])\n",
    "        while cur_idx >= 0:\n",
    "            tem_r.next = ListNode(l[cur_idx])\n",
    "            tem_r = tem_r.next\n",
    "            cur_idx -= 1\n",
    "        return result.next"
   ]
  },
  {
   "cell_type": "code",
   "execution_count": 2,
   "metadata": {},
   "outputs": [],
   "source": [
    "def bulid(a,b,c):\n",
    "    l = ListNode(a)\n",
    "    l.next = ListNode(b)\n",
    "    l.next.next = ListNode(c)\n",
    "    return l\n",
    "\n",
    "l1 = bulid(2,4,3)\n",
    "l2 = bulid(5,6,4)"
   ]
  },
  {
   "cell_type": "code",
   "execution_count": 3,
   "metadata": {},
   "outputs": [
    {
     "name": "stdout",
     "output_type": "stream",
     "text": [
      "[7, 0, 8]\n"
     ]
    }
   ],
   "source": [
    "s = Solution()\n",
    "result = s.addTwoNumbers(l1,l2)\n",
    "p = []\n",
    "while result:\n",
    "    p.append(result.val)\n",
    "    result = result.next\n",
    "print(p)"
   ]
  }
 ],
 "metadata": {
  "kernelspec": {
   "display_name": "Python 3",
   "language": "python",
   "name": "python3"
  },
  "language_info": {
   "codemirror_mode": {
    "name": "ipython",
    "version": 3
   },
   "file_extension": ".py",
   "mimetype": "text/x-python",
   "name": "python",
   "nbconvert_exporter": "python",
   "pygments_lexer": "ipython3",
   "version": "3.7.3"
  },
  "toc": {
   "base_numbering": 1,
   "nav_menu": {},
   "number_sections": true,
   "sideBar": true,
   "skip_h1_title": false,
   "title_cell": "Table of Contents",
   "title_sidebar": "Contents",
   "toc_cell": false,
   "toc_position": {},
   "toc_section_display": true,
   "toc_window_display": false
  }
 },
 "nbformat": 4,
 "nbformat_minor": 2
}
