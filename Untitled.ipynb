{
 "cells": [
  {
   "cell_type": "code",
   "execution_count": 1,
   "metadata": {},
   "outputs": [
    {
     "name": "stdout",
     "output_type": "stream",
     "text": [
      "0\n",
      "11\n",
      "============================================================\n",
      "1\n",
      "13\n",
      "============================================================\n",
      "2\n",
      "2\n",
      "============================================================\n",
      "3\n",
      "5\n",
      "============================================================\n",
      "4\n",
      "7\n",
      "============================================================\n"
     ]
    }
   ],
   "source": [
    "nums = [11, 13, 2, 5, 7]\n",
    "for i, num in enumerate(nums):\n",
    "    print(i)\n",
    "    print(num)\n",
    "    print(\"=\" * 60)"
   ]
  },
  {
   "cell_type": "code",
   "execution_count": 10,
   "metadata": {},
   "outputs": [],
   "source": [
    "dic = {}\n",
    "dic['2'] = 11\n",
    "dic['100'] = 12"
   ]
  },
  {
   "cell_type": "code",
   "execution_count": 12,
   "metadata": {},
   "outputs": [
    {
     "data": {
      "text/plain": [
       "dict_keys(['2', '100'])"
      ]
     },
     "execution_count": 12,
     "metadata": {},
     "output_type": "execute_result"
    }
   ],
   "source": [
    "dic.keys()"
   ]
  },
  {
   "cell_type": "code",
   "execution_count": 13,
   "metadata": {},
   "outputs": [
    {
     "data": {
      "text/plain": [
       "11"
      ]
     },
     "execution_count": 13,
     "metadata": {},
     "output_type": "execute_result"
    }
   ],
   "source": [
    "dic['2']"
   ]
  },
  {
   "cell_type": "code",
   "execution_count": 34,
   "metadata": {},
   "outputs": [],
   "source": [
    "def twoSum(nums, target):\n",
    "    dic = {}\n",
    "    results = []\n",
    "    for idx, num in enumerate(nums):\n",
    "        key = target - num\n",
    "        dic[key] = idx\n",
    "    print(dic)\n",
    "    for num in nums:\n",
    "        if num in dic.keys() and (target-num)!=num:\n",
    "            results.append(dic[num])\n",
    "    return sorted(results)"
   ]
  },
  {
   "cell_type": "code",
   "execution_count": 129,
   "metadata": {},
   "outputs": [],
   "source": [
    "def twoSum(nums, target):\n",
    "    dic = {}\n",
    "    results = []\n",
    "    for idx, num in enumerate(nums):\n",
    "        if target - num in dic.keys():\n",
    "            results.append(dic[target-num])\n",
    "            results.append(idx)\n",
    "        else:\n",
    "            dic[num] = idx\n",
    "    return results"
   ]
  },
  {
   "cell_type": "code",
   "execution_count": 134,
   "metadata": {},
   "outputs": [],
   "source": [
    "nums = [2,7,11,15];target = 9\n",
    "nums = [3,2,4];target = 6\n",
    "# nums = [3,3]; target = 6"
   ]
  },
  {
   "cell_type": "code",
   "execution_count": 135,
   "metadata": {},
   "outputs": [
    {
     "data": {
      "text/plain": [
       "[1, 2]"
      ]
     },
     "execution_count": 135,
     "metadata": {},
     "output_type": "execute_result"
    }
   ],
   "source": [
    "twoSum(nums, target)"
   ]
  },
  {
   "cell_type": "code",
   "execution_count": 113,
   "metadata": {},
   "outputs": [],
   "source": [
    "a = twoSum(nums, target)"
   ]
  },
  {
   "cell_type": "code",
   "execution_count": 120,
   "metadata": {},
   "outputs": [
    {
     "name": "stdout",
     "output_type": "stream",
     "text": [
      "7\n",
      "dict_keys([])\n",
      "2\n",
      "dict_keys([7])\n",
      "-2\n",
      "dict_keys([7, 2])\n",
      "-6\n",
      "dict_keys([7, 2, -2])\n"
     ]
    }
   ],
   "source": [
    "def twoSum(nums, target):\n",
    "    dic = {}; results = []\n",
    "    for i, num in enumerate(nums):\n",
    "        print(target-num)\n",
    "        print(dic.keys())\n",
    "        if target-num in dic.keys():\n",
    "            print(dic[target-num])\n",
    "        else:\n",
    "            dic[target-num] = i\n",
    "    return\n",
    "twoSum(nums,target)"
   ]
  }
 ],
 "metadata": {
  "kernelspec": {
   "display_name": "Python 3",
   "language": "python",
   "name": "python3"
  },
  "language_info": {
   "codemirror_mode": {
    "name": "ipython",
    "version": 3
   },
   "file_extension": ".py",
   "mimetype": "text/x-python",
   "name": "python",
   "nbconvert_exporter": "python",
   "pygments_lexer": "ipython3",
   "version": "3.7.3"
  },
  "toc": {
   "base_numbering": 1,
   "nav_menu": {},
   "number_sections": true,
   "sideBar": true,
   "skip_h1_title": false,
   "title_cell": "Table of Contents",
   "title_sidebar": "Contents",
   "toc_cell": false,
   "toc_position": {},
   "toc_section_display": true,
   "toc_window_display": false
  }
 },
 "nbformat": 4,
 "nbformat_minor": 2
}
