{
 "cells": [
  {
   "cell_type": "markdown",
   "metadata": {},
   "source": [
    "# 12. Integer to Roman\n",
    "\n",
    "Roman numerals are represented by seven different symbols: I, V, X, L, C, D and M.\n",
    "```\n",
    "Symbol       Value\n",
    "I             1\n",
    "V             5\n",
    "X             10\n",
    "L             50\n",
    "C             100\n",
    "D             500\n",
    "M             1000\n",
    "```\n",
    "For example, two is written as `II` in Roman numeral, just two one's added together. Twelve is written as, `XII`, which is simply `X` + `II`. The number twenty seven is written as `XXVII`, which is `XX + V + II`.\n",
    "\n",
    "Roman numerals are usually written largest to smallest from left to right. However, the numeral for four is not `IIII`. Instead, the number four is written as IV. Because the one is before the five we subtract it making four. The same principle applies to the number nine, which is written as `IX`. There are six instances where subtraction is used:\n",
    "\n",
    "`I` can be placed before `V (5)` and `X (10)` to make 4 and 9. \n",
    "`X` can be placed before `L (50)` and `C (100)` to make 40 and 90. \n",
    "`C` can be placed before `D (500)` and `M (1000)` to make 400 and 900.\n",
    "Given an integer, convert it to a roman numeral. Input is guaranteed to be within the range from 1 to 3999."
   ]
  },
  {
   "cell_type": "code",
   "execution_count": null,
   "metadata": {},
   "outputs": [],
   "source": [
    "class Solution:\n",
    "    def intToRoman(self, num: int) -> str:        \n",
    "        strs = ['M', 'CM', 'D', 'CD', 'C', 'XC', 'L', 'XL', 'X', 'IX', 'V', 'IV', 'I']\n",
    "        nums = [1000, 900, 500, 400, 100, 90, 50, 40, 10, 9, 5, 4, 1]        \n",
    "        roman = \"\"        \n",
    "        for i, j in enumerate(nums):\n",
    "            while num >= j:\n",
    "                roman += strs[i]\n",
    "                num -= j\n",
    "            if num == 0:\n",
    "                return roman\n",
    "        return roman"
   ]
  },
  {
   "cell_type": "code",
   "execution_count": null,
   "metadata": {},
   "outputs": [],
   "source": [
    "class Solution:\n",
    "    def intToRoman1(self, num: int) -> str:\n",
    "        roman = 'I' * num\n",
    "        roman = roman.replace('I'*1000, 'M')\n",
    "        roman = roman.replace('I'*900, 'CM')\n",
    "        roman = roman.replace('I'*500 , 'D')\n",
    "        roman = roman.replace('I'*400, 'CD')\n",
    "        roman = roman.replace('I'*100 , 'C')\n",
    "        roman = roman.replace('I'*90 , 'XC')\n",
    "        roman = roman.replace('I'*50  , 'L')\n",
    "        roman = roman.replace('I'*40 , 'XL')\n",
    "        roman = roman.replace('I'*10  , 'X')\n",
    "        roman = roman.replace('I'*9  , 'IX')\n",
    "        roman = roman.replace('I'*5   , 'V')\n",
    "        roman = roman.replace('I'*4  , 'IV')\n",
    "        return roman\n",
    "    \n",
    "    def intToRoman2(self, num: int) -> str:\n",
    "        roman = ''\n",
    "        roman += 'M'*int(num/1000); num = num%1000\n",
    "        roman += 'CM'*int(num/900); num = num%900\n",
    "        roman += 'D'*int(num/500);  num = num%500\n",
    "        roman += 'CD'*int(num/400); num = num%400\n",
    "        roman += 'C'*int(num/100);  num = num%100\n",
    "        roman += 'XC'*int(num/90);  num = num%90\n",
    "        roman += 'L'*int(num/50);   num = num%50\n",
    "        roman += 'XL'*int(num/40);  num = num%40\n",
    "        roman += 'X'*int(num/10);   num = num%10\n",
    "        roman += 'IX'*int(num/9);   num = num%9\n",
    "        roman += 'V'*int(num/5);    num = num%5\n",
    "        roman += 'IV'*int(num/4);   num = num%4\n",
    "        roman += 'I'*num\n",
    "        return roman"
   ]
  }
 ],
 "metadata": {
  "kernelspec": {
   "display_name": "Python 3",
   "language": "python",
   "name": "python3"
  },
  "language_info": {
   "codemirror_mode": {
    "name": "ipython",
    "version": 3
   },
   "file_extension": ".py",
   "mimetype": "text/x-python",
   "name": "python",
   "nbconvert_exporter": "python",
   "pygments_lexer": "ipython3",
   "version": "3.7.3"
  },
  "toc": {
   "base_numbering": 1,
   "nav_menu": {},
   "number_sections": true,
   "sideBar": true,
   "skip_h1_title": false,
   "title_cell": "Table of Contents",
   "title_sidebar": "Contents",
   "toc_cell": false,
   "toc_position": {},
   "toc_section_display": true,
   "toc_window_display": false
  }
 },
 "nbformat": 4,
 "nbformat_minor": 2
}
